{
  "nbformat": 4,
  "nbformat_minor": 0,
  "metadata": {
    "colab": {
      "name": "correcting-rotation-of-documents.ipynb",
      "version": "0.3.2",
      "provenance": [],
      "include_colab_link": true
    },
    "kernelspec": {
      "name": "python3",
      "display_name": "Python 3"
    },
    "accelerator": "GPU"
  },
  "cells": [
    {
      "cell_type": "markdown",
      "metadata": {
        "id": "view-in-github",
        "colab_type": "text"
      },
      "source": [
        "<a href=\"https://colab.research.google.com/github/hajaulee/correcting-rotation-of-documents/blob/master/correcting_rotation_of_documents.ipynb\" target=\"_parent\"><img src=\"https://colab.research.google.com/assets/colab-badge.svg\" alt=\"Open In Colab\"/></a>"
      ]
    },
    {
      "metadata": {
        "id": "DOxw45bdjP1F",
        "colab_type": "code",
        "colab": {
          "base_uri": "https://localhost:8080/",
          "height": 122
        },
        "outputId": "ec836440-fcc1-47b7-d6a8-72bfc41f3d2b"
      },
      "cell_type": "code",
      "source": [
        "# Load the Drive helper and mount\n",
        "from google.colab import drive\n",
        "drive.mount('/content/drive')"
      ],
      "execution_count": 2,
      "outputs": [
        {
          "output_type": "stream",
          "text": [
            "Go to this URL in a browser: https://accounts.google.com/o/oauth2/auth?client_id=947318989803-6bn6qk8qdgf4n4g3pfee6491hc0brc4i.apps.googleusercontent.com&redirect_uri=urn%3Aietf%3Awg%3Aoauth%3A2.0%3Aoob&scope=email%20https%3A%2F%2Fwww.googleapis.com%2Fauth%2Fdocs.test%20https%3A%2F%2Fwww.googleapis.com%2Fauth%2Fdrive%20https%3A%2F%2Fwww.googleapis.com%2Fauth%2Fdrive.photos.readonly%20https%3A%2F%2Fwww.googleapis.com%2Fauth%2Fpeopleapi.readonly&response_type=code\n",
            "\n",
            "Enter your authorization code:\n",
            "··········\n",
            "Mounted at /content/drive\n"
          ],
          "name": "stdout"
        }
      ]
    },
    {
      "metadata": {
        "id": "6rTW9cO_j4un",
        "colab_type": "code",
        "colab": {
          "base_uri": "https://localhost:8080/",
          "height": 272
        },
        "outputId": "77f61b16-2d78-443c-a806-c8be1faf41fc"
      },
      "cell_type": "code",
      "source": [
        "!ls -ial '/content/drive/My Drive/correcting-rotation-of-documents/test_dataset'"
      ],
      "execution_count": 3,
      "outputs": [
        {
          "output_type": "stream",
          "text": [
            "total 1470\n",
            "53 -rw------- 1 root root 123223 Mar 17 05:01 0-pdf.jpg\n",
            "44 -rw------- 1 root root  90604 Mar 16 14:56 0-the-cu-chi.jpg\n",
            "42 -rw------- 1 root root 116900 Mar 16 14:56 0-viet-tay.jpg\n",
            "41 -rw------- 1 root root  45636 Mar 16 14:45 0-vi.jpg\n",
            "46 -rw------- 1 root root 113079 Mar 16 15:21 180-japan.jpg\n",
            "52 -rw------- 1 root root 114850 Mar 17 05:01 180-pdf.jpg\n",
            "47 -rw------- 1 root root 104953 Mar 16 15:34 180-the-cu-chi.jpg\n",
            "48 -rw------- 1 root root 114676 Mar 16 15:35 180-viet-tay.jpg\n",
            "54 -rw------- 1 root root 113704 Mar 17 05:01 270-pdf.jpg\n",
            "49 -rw------- 1 root root 105561 Mar 16 15:35 270-the-cu-chi.jpg\n",
            "50 -rw------- 1 root root 117317 Mar 16 15:35 270-viet-tay.jpg\n",
            "51 -rw------- 1 root root 118880 Mar 17 05:01 90-pdf.jpg\n",
            "43 -rw------- 1 root root 106081 Mar 16 14:56 90-the-cu-chi.jpg\n",
            "45 -rw------- 1 root root 115443 Mar 16 15:18 90-viet-tay.jpg\n"
          ],
          "name": "stdout"
        }
      ]
    },
    {
      "metadata": {
        "id": "zRgrQyy6lOHD",
        "colab_type": "code",
        "colab": {}
      },
      "cell_type": "code",
      "source": [
        "import cv2 as cv\n",
        "import glob\n",
        "import os\n",
        "import time\n",
        "import numpy as np\n",
        "import matplotlib.pyplot as plt\n",
        "import tensorflow as tf\n",
        "from tensorflow.python.client import device_lib\n",
        "from keras.layers import Convolution2D, Dropout, Dense, Flatten, MaxPooling2D, Input, BatchNormalization, Add\n",
        "from keras.models import Model\n",
        "from keras.callbacks import ModelCheckpoint, EarlyStopping, TensorBoard\n",
        "from keras import metrics, regularizers\n",
        "from sklearn.preprocessing import LabelEncoder, OneHotEncoder\n",
        "from sklearn.model_selection import train_test_split"
      ],
      "execution_count": 0,
      "outputs": []
    },
    {
      "metadata": {
        "id": "g75sOl4blp3E",
        "colab_type": "code",
        "colab": {}
      },
      "cell_type": "code",
      "source": [
        "working_path = '/content/drive/My Drive/correcting-rotation-of-documents'\n",
        "image_shape = (200,200,1)\n",
        "nb_classes = 4"
      ],
      "execution_count": 0,
      "outputs": []
    },
    {
      "metadata": {
        "id": "UI5Sd9aJlr8N",
        "colab_type": "code",
        "colab": {}
      },
      "cell_type": "code",
      "source": [
        "def indices_to_one_hot(data, nb_classes):\n",
        "    \"\"\"Convert an iterable of indices to one-hot encoded labels.\"\"\"\n",
        "    targets = np.array(data).reshape(-1)\n",
        "    return np.eye(nb_classes)[targets]"
      ],
      "execution_count": 0,
      "outputs": []
    },
    {
      "metadata": {
        "id": "SySBTIgzmq6-",
        "colab_type": "code",
        "colab": {}
      },
      "cell_type": "code",
      "source": [
        "def get_available_devices():\n",
        "    local_device_protos = device_lib.list_local_devices()\n",
        "    return [x.name for x in local_device_protos]"
      ],
      "execution_count": 0,
      "outputs": []
    },
    {
      "metadata": {
        "id": "dEYO1hlGmttz",
        "colab_type": "code",
        "colab": {}
      },
      "cell_type": "code",
      "source": [
        "def load_data(folder):\n",
        "    X, labels, names = [],[], []\n",
        "    list_images_file = glob.glob(os.path.join(folder, \"*.jpg\"))\n",
        "    for filename in list_images_file:\n",
        "        img = cv.imread(filename, cv.IMREAD_GRAYSCALE)\n",
        "        img = cv.resize(img, image_shape[:2])\n",
        "        img = np.asarray(img)\n",
        "        img = img.reshape(image_shape)\n",
        "        label = os.path.basename(filename)[0]\n",
        "        X.append(img)\n",
        "        labels.append(label)\n",
        "        names.append(os.path.basename(filename))\n",
        "#         print ('Loaded', filename)\n",
        "    print(\"Loaded\", len(list_images_file), 'files')\n",
        "    return np.asarray(X), np.asarray(labels), names"
      ],
      "execution_count": 0,
      "outputs": []
    },
    {
      "metadata": {
        "id": "-m3kor95mxQC",
        "colab_type": "code",
        "colab": {}
      },
      "cell_type": "code",
      "source": [
        "def get_model(nb_classes):\n",
        "    # size of pooling area for max pooling\n",
        "    pool_size = (2, 2)\n",
        "    # convolution kernel size\n",
        "    kernel_size = (3,3)\n",
        "    # convolution strides\n",
        "    strides = (1,1)\n",
        "\n",
        "    # model definition\n",
        "    input = Input(shape=image_shape)\n",
        "    \n",
        "    x = Convolution2D(96, (3,3), strides=(2,2),\n",
        "                      activation='relu')(input)\n",
        "    x = MaxPooling2D(pool_size=pool_size)(x)\n",
        "    x = BatchNormalization()(x)\n",
        "    \n",
        "    \n",
        "    x = Convolution2D(64, kernel_size, strides=strides,\n",
        "                      activation='relu')(x)\n",
        "#     x = MaxPooling2D(pool_size=pool_size)(x)\n",
        "    x = BatchNormalization()(x)\n",
        "    x_cv1 = x\n",
        "    \n",
        "    x = Convolution2D(64, kernel_size, strides=strides,\n",
        "                      activation='relu', padding='same')(x)\n",
        "#     x = MaxPooling2D(pool_size=pool_size)(x)\n",
        "    x = BatchNormalization()(x)\n",
        "    \n",
        "    x = Add()([x, x_cv1])\n",
        "    x = Dropout(rate=0.40)(x)\n",
        "    x = Flatten()(x)\n",
        "    x = Dense(128, activation='relu')(x)\n",
        "    x = Dropout(rate=0.30)(x)\n",
        "    x = Dense(128, activation='relu')(x)\n",
        "    x = Dropout(rate=0.30)(x)\n",
        "    x = Dense(nb_classes, activation='softmax')(x)\n",
        "\n",
        "    model = Model(inputs=[input], outputs=x)\n",
        "\n",
        "    model.summary()\n",
        "    # model compilation\n",
        "    model.compile(loss='categorical_crossentropy',\n",
        "                  optimizer='sgd',\n",
        "                  metrics=['accuracy'])\n",
        "    return model"
      ],
      "execution_count": 0,
      "outputs": []
    },
    {
      "metadata": {
        "id": "aakppWJEm1kr",
        "colab_type": "code",
        "colab": {}
      },
      "cell_type": "code",
      "source": [
        "#@title Trainning function { display-mode: \"both\" }\n",
        "\n",
        "def train(model, train_, test_, nb_epoch=100, allow_early_stop=False):\n",
        "    print('Train {} epochs, Allow early stopping: {}'.format(nb_epoch, allow_early_stop) )\n",
        "    # training parameters\n",
        "    batch_size = 200\n",
        "\n",
        "    output_filename = 'model.json'\n",
        "    # callbacks\n",
        "    checkpointer = ModelCheckpoint(\n",
        "        filepath=output_filename,\n",
        "        save_best_only=True\n",
        "    )\n",
        "    early_stopping = EarlyStopping(patience=2)\n",
        "    tensorboard = TensorBoard()\n",
        "\n",
        "    callbacks = [checkpointer, tensorboard, early_stopping] if allow_early_stop else [checkpointer, tensorboard]\n",
        "    # training loop\n",
        "    with tf.device('/gpu:0'):\n",
        "        histories = model.fit(train_[0], train_[1],\n",
        "            epochs=nb_epoch,\n",
        "            batch_size=125,\n",
        "            validation_data=test_,\n",
        "            verbose=True,\n",
        "            shuffle=True,\n",
        "            callbacks=callbacks\n",
        "        )\n",
        "\n",
        "    return model, histories"
      ],
      "execution_count": 0,
      "outputs": []
    },
    {
      "metadata": {
        "id": "PLdIrCAfm5sr",
        "colab_type": "code",
        "colab": {
          "base_uri": "https://localhost:8080/",
          "height": 697
        },
        "outputId": "18368621-e9ec-4f06-8d71-c790a59e824d"
      },
      "cell_type": "code",
      "source": [
        "start_time = time.time()\n",
        "# Build model\n",
        "model = get_model(nb_classes)\n",
        "build_model_time = time.time() - start_time\n",
        "    "
      ],
      "execution_count": 49,
      "outputs": [
        {
          "output_type": "stream",
          "text": [
            "__________________________________________________________________________________________________\n",
            "Layer (type)                    Output Shape         Param #     Connected to                     \n",
            "==================================================================================================\n",
            "input_10 (InputLayer)           (None, 200, 200, 1)  0                                            \n",
            "__________________________________________________________________________________________________\n",
            "conv2d_28 (Conv2D)              (None, 99, 99, 96)   960         input_10[0][0]                   \n",
            "__________________________________________________________________________________________________\n",
            "max_pooling2d_25 (MaxPooling2D) (None, 49, 49, 96)   0           conv2d_28[0][0]                  \n",
            "__________________________________________________________________________________________________\n",
            "batch_normalization_28 (BatchNo (None, 49, 49, 96)   384         max_pooling2d_25[0][0]           \n",
            "__________________________________________________________________________________________________\n",
            "conv2d_29 (Conv2D)              (None, 47, 47, 64)   55360       batch_normalization_28[0][0]     \n",
            "__________________________________________________________________________________________________\n",
            "batch_normalization_29 (BatchNo (None, 47, 47, 64)   256         conv2d_29[0][0]                  \n",
            "__________________________________________________________________________________________________\n",
            "conv2d_30 (Conv2D)              (None, 47, 47, 64)   36928       batch_normalization_29[0][0]     \n",
            "__________________________________________________________________________________________________\n",
            "batch_normalization_30 (BatchNo (None, 47, 47, 64)   256         conv2d_30[0][0]                  \n",
            "__________________________________________________________________________________________________\n",
            "add_7 (Add)                     (None, 47, 47, 64)   0           batch_normalization_30[0][0]     \n",
            "                                                                 batch_normalization_29[0][0]     \n",
            "__________________________________________________________________________________________________\n",
            "dropout_8 (Dropout)             (None, 47, 47, 64)   0           add_7[0][0]                      \n",
            "__________________________________________________________________________________________________\n",
            "flatten_4 (Flatten)             (None, 141376)       0           dropout_8[0][0]                  \n",
            "__________________________________________________________________________________________________\n",
            "dense_8 (Dense)                 (None, 128)          18096256    flatten_4[0][0]                  \n",
            "__________________________________________________________________________________________________\n",
            "dropout_9 (Dropout)             (None, 128)          0           dense_8[0][0]                    \n",
            "__________________________________________________________________________________________________\n",
            "dense_9 (Dense)                 (None, 128)          16512       dropout_9[0][0]                  \n",
            "__________________________________________________________________________________________________\n",
            "dropout_10 (Dropout)            (None, 128)          0           dense_9[0][0]                    \n",
            "__________________________________________________________________________________________________\n",
            "dense_10 (Dense)                (None, 4)            516         dropout_10[0][0]                 \n",
            "==================================================================================================\n",
            "Total params: 18,207,428\n",
            "Trainable params: 18,206,980\n",
            "Non-trainable params: 448\n",
            "__________________________________________________________________________________________________\n"
          ],
          "name": "stdout"
        }
      ]
    },
    {
      "metadata": {
        "id": "s1JpAyUPnwRD",
        "colab_type": "code",
        "colab": {
          "base_uri": "https://localhost:8080/",
          "height": 68
        },
        "outputId": "715c6787-6d19-476d-d303-c5f5f7d14829"
      },
      "cell_type": "code",
      "source": [
        "start_time = time.time()\n",
        "images_path = os.path.join(working_path,'train_dataset')\n",
        "print('Load images from', images_path)\n",
        "X_data, Y_data, N_data = load_data(images_path)\n",
        "X_train, X_test, Y_train, Y_test = train_test_split(X_data, Y_data, test_size=.2, random_state=42)\n",
        "\n",
        "load_data_time = time.time() - start_time\n",
        "print('Training with', len(X_train), 'images and validate with', len(X_test), 'images') "
      ],
      "execution_count": 12,
      "outputs": [
        {
          "output_type": "stream",
          "text": [
            "Load images from /content/drive/My Drive/correcting-rotation-of-documents/train_dataset\n",
            "Loaded 2156 files\n",
            "Training with 1724 images and validate with 432 images\n"
          ],
          "name": "stdout"
        }
      ]
    },
    {
      "metadata": {
        "id": "_oPdyJXexKCT",
        "colab_type": "code",
        "colab": {}
      },
      "cell_type": "code",
      "source": [
        "labelencoder_X = LabelEncoder()\n",
        "Y_train = labelencoder_X.fit_transform(Y_train)\n",
        "Y_test = labelencoder_X.transform(Y_test)\n",
        "\n",
        "Y_train = indices_to_one_hot(Y_train, nb_classes)\n",
        "Y_test = indices_to_one_hot(Y_test, nb_classes)"
      ],
      "execution_count": 0,
      "outputs": []
    },
    {
      "metadata": {
        "id": "jBiQ7TIWxPnr",
        "colab_type": "code",
        "colab": {
          "base_uri": "https://localhost:8080/",
          "height": 2346
        },
        "outputId": "6e95d03d-366b-4d8b-9411-47d99bc1366f"
      },
      "cell_type": "code",
      "source": [
        "start_time = time.time()\n",
        "model, history = train(model, train_=(X_train, Y_train), test_=(X_test, Y_test), nb_epoch=67)\n",
        "train_model_time = time.time() - start_time\n",
        "print(\"Training complete\")"
      ],
      "execution_count": 50,
      "outputs": [
        {
          "output_type": "stream",
          "text": [
            "Train 67 epochs, Allow early stopping: False\n",
            "Train on 1724 samples, validate on 432 samples\n",
            "Epoch 1/67\n",
            "1724/1724 [==============================] - 5s 3ms/step - loss: 1.6255 - acc: 0.6392 - val_loss: 2.1947 - val_acc: 0.5255\n",
            "Epoch 2/67\n",
            "1724/1724 [==============================] - 4s 2ms/step - loss: 0.4947 - acc: 0.8730 - val_loss: 0.8605 - val_acc: 0.7222\n",
            "Epoch 3/67\n",
            "1724/1724 [==============================] - 4s 2ms/step - loss: 0.2887 - acc: 0.9130 - val_loss: 1.5049 - val_acc: 0.6458\n",
            "Epoch 4/67\n",
            "1724/1724 [==============================] - 4s 2ms/step - loss: 0.1630 - acc: 0.9617 - val_loss: 0.4808 - val_acc: 0.8611\n",
            "Epoch 5/67\n",
            "1724/1724 [==============================] - 4s 2ms/step - loss: 0.1383 - acc: 0.9588 - val_loss: 0.2544 - val_acc: 0.9375\n",
            "Epoch 6/67\n",
            "1724/1724 [==============================] - 4s 2ms/step - loss: 0.0981 - acc: 0.9722 - val_loss: 0.2373 - val_acc: 0.9352\n",
            "Epoch 7/67\n",
            "1724/1724 [==============================] - 4s 2ms/step - loss: 0.0867 - acc: 0.9751 - val_loss: 0.2348 - val_acc: 0.9491\n",
            "Epoch 8/67\n",
            "1724/1724 [==============================] - 4s 2ms/step - loss: 0.0773 - acc: 0.9832 - val_loss: 0.3642 - val_acc: 0.8866\n",
            "Epoch 9/67\n",
            "1724/1724 [==============================] - 4s 2ms/step - loss: 0.0872 - acc: 0.9797 - val_loss: 0.3052 - val_acc: 0.9282\n",
            "Epoch 10/67\n",
            "1724/1724 [==============================] - 4s 2ms/step - loss: 0.0582 - acc: 0.9861 - val_loss: 0.2880 - val_acc: 0.9213\n",
            "Epoch 11/67\n",
            "1724/1724 [==============================] - 4s 2ms/step - loss: 0.0498 - acc: 0.9872 - val_loss: 0.3016 - val_acc: 0.9352\n",
            "Epoch 12/67\n",
            "1724/1724 [==============================] - 4s 2ms/step - loss: 0.0427 - acc: 0.9890 - val_loss: 0.2622 - val_acc: 0.9329\n",
            "Epoch 13/67\n",
            "1724/1724 [==============================] - 4s 2ms/step - loss: 0.0496 - acc: 0.9867 - val_loss: 0.3013 - val_acc: 0.9282\n",
            "Epoch 14/67\n",
            "1724/1724 [==============================] - 4s 2ms/step - loss: 0.0465 - acc: 0.9896 - val_loss: 0.2653 - val_acc: 0.9468\n",
            "Epoch 15/67\n",
            "1724/1724 [==============================] - 4s 2ms/step - loss: 0.0436 - acc: 0.9896 - val_loss: 0.3294 - val_acc: 0.9329\n",
            "Epoch 16/67\n",
            "1724/1724 [==============================] - 4s 2ms/step - loss: 0.0309 - acc: 0.9896 - val_loss: 0.2368 - val_acc: 0.9583\n",
            "Epoch 17/67\n",
            "1724/1724 [==============================] - 4s 2ms/step - loss: 0.0446 - acc: 0.9896 - val_loss: 0.3160 - val_acc: 0.9282\n",
            "Epoch 18/67\n",
            "1724/1724 [==============================] - 4s 2ms/step - loss: 0.0253 - acc: 0.9919 - val_loss: 0.2298 - val_acc: 0.9514\n",
            "Epoch 19/67\n",
            "1724/1724 [==============================] - 4s 2ms/step - loss: 0.0265 - acc: 0.9930 - val_loss: 0.3036 - val_acc: 0.9259\n",
            "Epoch 20/67\n",
            "1724/1724 [==============================] - 4s 2ms/step - loss: 0.0240 - acc: 0.9942 - val_loss: 0.2765 - val_acc: 0.9468\n",
            "Epoch 21/67\n",
            "1724/1724 [==============================] - 4s 2ms/step - loss: 0.0202 - acc: 0.9930 - val_loss: 0.3025 - val_acc: 0.9468\n",
            "Epoch 22/67\n",
            "1724/1724 [==============================] - 4s 2ms/step - loss: 0.0201 - acc: 0.9936 - val_loss: 0.3120 - val_acc: 0.9514\n",
            "Epoch 23/67\n",
            "1724/1724 [==============================] - 4s 2ms/step - loss: 0.0202 - acc: 0.9936 - val_loss: 0.3209 - val_acc: 0.9259\n",
            "Epoch 24/67\n",
            "1724/1724 [==============================] - 4s 2ms/step - loss: 0.0159 - acc: 0.9930 - val_loss: 0.2810 - val_acc: 0.9468\n",
            "Epoch 25/67\n",
            "1724/1724 [==============================] - 4s 2ms/step - loss: 0.0165 - acc: 0.9936 - val_loss: 0.2515 - val_acc: 0.9514\n",
            "Epoch 26/67\n",
            "1724/1724 [==============================] - 4s 2ms/step - loss: 0.0170 - acc: 0.9954 - val_loss: 0.2825 - val_acc: 0.9491\n",
            "Epoch 27/67\n",
            "1724/1724 [==============================] - 4s 2ms/step - loss: 0.0087 - acc: 0.9971 - val_loss: 0.3036 - val_acc: 0.9444\n",
            "Epoch 28/67\n",
            "1724/1724 [==============================] - 4s 2ms/step - loss: 0.0234 - acc: 0.9948 - val_loss: 0.2680 - val_acc: 0.9560\n",
            "Epoch 29/67\n",
            "1724/1724 [==============================] - 4s 2ms/step - loss: 0.0095 - acc: 0.9965 - val_loss: 0.2646 - val_acc: 0.9560\n",
            "Epoch 30/67\n",
            "1724/1724 [==============================] - 4s 2ms/step - loss: 0.0177 - acc: 0.9959 - val_loss: 0.2637 - val_acc: 0.9514\n",
            "Epoch 31/67\n",
            "1724/1724 [==============================] - 4s 2ms/step - loss: 0.0086 - acc: 0.9977 - val_loss: 0.2935 - val_acc: 0.9444\n",
            "Epoch 32/67\n",
            "1724/1724 [==============================] - 4s 2ms/step - loss: 0.0109 - acc: 0.9965 - val_loss: 0.2896 - val_acc: 0.9560\n",
            "Epoch 33/67\n",
            "1724/1724 [==============================] - 4s 2ms/step - loss: 0.0085 - acc: 0.9977 - val_loss: 0.2532 - val_acc: 0.9583\n",
            "Epoch 34/67\n",
            "1724/1724 [==============================] - 4s 2ms/step - loss: 0.0125 - acc: 0.9959 - val_loss: 0.2771 - val_acc: 0.9514\n",
            "Epoch 35/67\n",
            "1724/1724 [==============================] - 4s 2ms/step - loss: 0.0057 - acc: 0.9983 - val_loss: 0.2789 - val_acc: 0.9468\n",
            "Epoch 36/67\n",
            "1724/1724 [==============================] - 4s 2ms/step - loss: 0.0046 - acc: 0.9994 - val_loss: 0.2591 - val_acc: 0.9583\n",
            "Epoch 37/67\n",
            "1724/1724 [==============================] - 4s 2ms/step - loss: 0.0066 - acc: 0.9965 - val_loss: 0.2769 - val_acc: 0.9398\n",
            "Epoch 38/67\n",
            "1724/1724 [==============================] - 4s 2ms/step - loss: 0.0060 - acc: 0.9971 - val_loss: 0.2518 - val_acc: 0.9583\n",
            "Epoch 39/67\n",
            "1724/1724 [==============================] - 4s 2ms/step - loss: 0.0096 - acc: 0.9965 - val_loss: 0.2429 - val_acc: 0.9560\n",
            "Epoch 40/67\n",
            "1724/1724 [==============================] - 4s 2ms/step - loss: 0.0067 - acc: 0.9977 - val_loss: 0.2635 - val_acc: 0.9560\n",
            "Epoch 41/67\n",
            "1724/1724 [==============================] - 4s 2ms/step - loss: 0.0084 - acc: 0.9954 - val_loss: 0.2468 - val_acc: 0.9560\n",
            "Epoch 42/67\n",
            "1724/1724 [==============================] - 4s 2ms/step - loss: 0.0074 - acc: 0.9971 - val_loss: 0.2473 - val_acc: 0.9583\n",
            "Epoch 43/67\n",
            "1724/1724 [==============================] - 4s 2ms/step - loss: 0.0075 - acc: 0.9971 - val_loss: 0.2759 - val_acc: 0.9537\n",
            "Epoch 44/67\n",
            "1724/1724 [==============================] - 4s 2ms/step - loss: 0.0098 - acc: 0.9971 - val_loss: 0.3787 - val_acc: 0.9398\n",
            "Epoch 45/67\n",
            "1724/1724 [==============================] - 4s 2ms/step - loss: 0.0034 - acc: 0.9994 - val_loss: 0.2759 - val_acc: 0.9560\n",
            "Epoch 46/67\n",
            "1724/1724 [==============================] - 4s 2ms/step - loss: 0.0097 - acc: 0.9983 - val_loss: 0.3010 - val_acc: 0.9468\n",
            "Epoch 47/67\n",
            "1724/1724 [==============================] - 4s 2ms/step - loss: 0.0216 - acc: 0.9948 - val_loss: 0.2687 - val_acc: 0.9514\n",
            "Epoch 48/67\n",
            "1724/1724 [==============================] - 4s 2ms/step - loss: 0.0039 - acc: 0.9983 - val_loss: 0.2816 - val_acc: 0.9583\n",
            "Epoch 49/67\n",
            "1724/1724 [==============================] - 4s 2ms/step - loss: 0.0030 - acc: 0.9994 - val_loss: 0.2731 - val_acc: 0.9583\n",
            "Epoch 50/67\n",
            "1724/1724 [==============================] - 4s 2ms/step - loss: 0.0022 - acc: 0.9988 - val_loss: 0.2716 - val_acc: 0.9560\n",
            "Epoch 51/67\n",
            "1724/1724 [==============================] - 4s 2ms/step - loss: 0.0080 - acc: 0.9977 - val_loss: 0.2556 - val_acc: 0.9583\n",
            "Epoch 52/67\n",
            "1724/1724 [==============================] - 4s 2ms/step - loss: 0.0048 - acc: 0.9977 - val_loss: 0.2801 - val_acc: 0.9583\n",
            "Epoch 53/67\n",
            "1724/1724 [==============================] - 4s 2ms/step - loss: 0.0034 - acc: 0.9994 - val_loss: 0.2871 - val_acc: 0.9583\n",
            "Epoch 54/67\n",
            "1724/1724 [==============================] - 4s 2ms/step - loss: 0.0043 - acc: 0.9988 - val_loss: 0.2775 - val_acc: 0.9583\n",
            "Epoch 55/67\n",
            "1724/1724 [==============================] - 4s 2ms/step - loss: 0.0122 - acc: 0.9954 - val_loss: 0.2696 - val_acc: 0.9606\n",
            "Epoch 56/67\n",
            "1724/1724 [==============================] - 4s 2ms/step - loss: 0.0102 - acc: 0.9977 - val_loss: 0.3266 - val_acc: 0.9352\n",
            "Epoch 57/67\n",
            "1724/1724 [==============================] - 4s 2ms/step - loss: 0.0029 - acc: 0.9994 - val_loss: 0.2690 - val_acc: 0.9560\n",
            "Epoch 58/67\n",
            "1724/1724 [==============================] - 4s 2ms/step - loss: 0.0061 - acc: 0.9988 - val_loss: 0.2601 - val_acc: 0.9606\n",
            "Epoch 59/67\n",
            "1724/1724 [==============================] - 4s 2ms/step - loss: 0.0040 - acc: 0.9988 - val_loss: 0.2782 - val_acc: 0.9583\n",
            "Epoch 60/67\n",
            "1724/1724 [==============================] - 4s 2ms/step - loss: 0.0040 - acc: 0.9988 - val_loss: 0.2612 - val_acc: 0.9583\n",
            "Epoch 61/67\n",
            "1724/1724 [==============================] - 4s 2ms/step - loss: 0.0054 - acc: 0.9988 - val_loss: 0.2690 - val_acc: 0.9606\n",
            "Epoch 62/67\n",
            "1724/1724 [==============================] - 4s 2ms/step - loss: 0.0036 - acc: 0.9988 - val_loss: 0.2821 - val_acc: 0.9606\n",
            "Epoch 63/67\n",
            "1724/1724 [==============================] - 4s 2ms/step - loss: 0.0028 - acc: 0.9994 - val_loss: 0.3096 - val_acc: 0.9514\n",
            "Epoch 64/67\n",
            "1724/1724 [==============================] - 4s 2ms/step - loss: 0.0050 - acc: 0.9983 - val_loss: 0.2984 - val_acc: 0.9491\n",
            "Epoch 65/67\n",
            "1724/1724 [==============================] - 4s 2ms/step - loss: 0.0139 - acc: 0.9977 - val_loss: 0.4639 - val_acc: 0.9213\n",
            "Epoch 66/67\n",
            "1724/1724 [==============================] - 4s 2ms/step - loss: 0.0040 - acc: 0.9988 - val_loss: 0.3010 - val_acc: 0.9653\n",
            "Epoch 67/67\n",
            "1724/1724 [==============================] - 4s 2ms/step - loss: 0.0025 - acc: 0.9994 - val_loss: 0.2734 - val_acc: 0.9630\n",
            "Training complete\n"
          ],
          "name": "stdout"
        }
      ]
    },
    {
      "metadata": {
        "id": "LqRC9ea1xxrc",
        "colab_type": "code",
        "colab": {
          "base_uri": "https://localhost:8080/",
          "height": 837
        },
        "outputId": "9a4a0dbb-c8ac-4d92-acc4-3ee565527bae"
      },
      "cell_type": "code",
      "source": [
        "# summarize history for accuracy\n",
        "plt.figure()\n",
        "plt.plot(history.history['acc'])\n",
        "plt.plot(history.history['val_acc'])\n",
        "plt.title('model accuracy')\n",
        "plt.ylabel('accuracy')\n",
        "plt.xlabel('epoch')\n",
        "plt.legend(['train', 'test'], loc='upper left')\n",
        "plt.show()\n",
        "\n",
        "plt.plot(history.history['loss'])\n",
        "plt.plot(history.history['val_loss'])\n",
        "plt.title('model accuracy')\n",
        "plt.ylabel('losses')\n",
        "plt.xlabel('epoch')\n",
        "plt.legend(['train', 'test'], loc='upper left')\n",
        "plt.show()\n",
        "test_loss, test_acc = model.evaluate(X_test, Y_test)\n",
        "print(\"Evaluate model: loss:{}, acc:{}\".format(test_loss, test_acc))\n",
        "print(\"Build model in {} seconds.\".format(build_model_time))\n",
        "print(\"Load data in {} seconds.\".format(load_data_time))\n",
        "print(\"Train model in {} second.\".format(train_model_time))\n",
        "print(\"Max val_acc is {} at epoch {}\".format(max(history.history['val_acc']), \n",
        "      1 + np.where(history.history['val_acc'] ==max(history.history['val_acc']))[0][0]))"
      ],
      "execution_count": 51,
      "outputs": [
        {
          "output_type": "display_data",
          "data": {
            "image/png": "[encoded data removed]",
            "text/plain": [
              "<Figure size 576x396 with 1 Axes>"
            ]
          },
          "metadata": {
            "tags": []
          }
        },
        {
          "output_type": "display_data",
          "data": {
            "image/png": "[encoded data removed]",
            "text/plain": [
              "<Figure size 576x396 with 1 Axes>"
            ]
          },
          "metadata": {
            "tags": []
          }
        },
        {
          "output_type": "stream",
          "text": [
            "432/432 [==============================] - 0s 1ms/step\n",
            "Evaluate model: loss:0.2733892356390478, acc:0.9629629629629629\n",
            "Build model in 0.6093645095825195 seconds.\n",
            "Load data in 1193.3548848628998 seconds.\n",
            "Train model in 250.12429451942444 second.\n",
            "Max val_acc is 0.965277782054963 at epoch 66\n"
          ],
          "name": "stdout"
        }
      ]
    },
    {
      "metadata": {
        "id": "X9RfiPAL6lZw",
        "colab_type": "code",
        "colab": {
          "base_uri": "https://localhost:8080/",
          "height": 850
        },
        "outputId": "caa91d79-ada6-4f73-df6f-9d3054156010"
      },
      "cell_type": "code",
      "source": [
        "print(\"Label:\",Y_test[1])\n",
        "tmp_test = np.expand_dims(X_test[1], axis=0)\n",
        "print(\"Predict:\",model.predict(tmp_test))\n",
        "\n",
        "real_data = load_data(os.path.join(working_path,'test_dataset'))\n",
        "\n",
        "real_labels = indices_to_one_hot(labelencoder_X.transform(real_data[1]), nb_classes)\n",
        "\n",
        "print(np.expand_dims(np.asarray(real_data[2]), axis=1))\n",
        "print(\"Real data label:\\n\", real_labels)\n",
        "predicted_result = model.predict(real_data[0])\n",
        "hot_results = []\n",
        "\n",
        "for row in predicted_result:\n",
        "    hot_index = np.where(row == max(row))[0][0]\n",
        "    hot_result = [0] * len(row)\n",
        "    hot_result[hot_index] = 1\n",
        "    hot_results.append(hot_result)\n",
        "hot_results = np.asarray(hot_results)\n",
        "print(\"Real data Predict:\\n\", hot_results)\n",
        "\n",
        "real_test_loss, real_test_acc = model.evaluate(real_data[0], real_labels)\n",
        "print(\"Evaluate model: loss:{}, acc:{}\".format(real_test_loss, real_test_acc))"
      ],
      "execution_count": 28,
      "outputs": [
        {
          "output_type": "stream",
          "text": [
            "Label: [1. 0. 0. 0.]\n",
            "Predict: [[9.9982738e-01 1.5461190e-04 1.5873124e-05 2.0812072e-06]]\n",
            "Loaded 14 files\n",
            "[['0-vi.jpg']\n",
            " ['0-viet-tay.jpg']\n",
            " ['90-the-cu-chi.jpg']\n",
            " ['0-the-cu-chi.jpg']\n",
            " ['90-viet-tay.jpg']\n",
            " ['180-japan.jpg']\n",
            " ['180-the-cu-chi.jpg']\n",
            " ['180-viet-tay.jpg']\n",
            " ['270-the-cu-chi.jpg']\n",
            " ['270-viet-tay.jpg']\n",
            " ['90-pdf.jpg']\n",
            " ['180-pdf.jpg']\n",
            " ['0-pdf.jpg']\n",
            " ['270-pdf.jpg']]\n",
            "Real data label:\n",
            " [[1. 0. 0. 0.]\n",
            " [1. 0. 0. 0.]\n",
            " [0. 0. 0. 1.]\n",
            " [1. 0. 0. 0.]\n",
            " [0. 0. 0. 1.]\n",
            " [0. 1. 0. 0.]\n",
            " [0. 1. 0. 0.]\n",
            " [0. 1. 0. 0.]\n",
            " [0. 0. 1. 0.]\n",
            " [0. 0. 1. 0.]\n",
            " [0. 0. 0. 1.]\n",
            " [0. 1. 0. 0.]\n",
            " [1. 0. 0. 0.]\n",
            " [0. 0. 1. 0.]]\n",
            "Real data Predict:\n",
            " [[1 0 0 0]\n",
            " [0 1 0 0]\n",
            " [0 0 1 0]\n",
            " [0 0 1 0]\n",
            " [0 0 1 0]\n",
            " [0 1 0 0]\n",
            " [0 0 1 0]\n",
            " [0 0 1 0]\n",
            " [0 0 1 0]\n",
            " [0 0 1 0]\n",
            " [0 0 0 1]\n",
            " [0 1 0 0]\n",
            " [1 0 0 0]\n",
            " [0 0 0 1]]\n",
            "14/14 [==============================] - 0s 737us/step\n",
            "Evaluate model: loss:0.763151228427887, acc:0.5\n"
          ],
          "name": "stdout"
        }
      ]
    },
    {
      "metadata": {
        "id": "KhoYsAuia_Ur",
        "colab_type": "code",
        "colab": {
          "base_uri": "https://localhost:8080/",
          "height": 34
        },
        "outputId": "344266e7-9abd-4144-fecb-e466860e6dd2"
      },
      "cell_type": "code",
      "source": [
        "!git remote"
      ],
      "execution_count": 45,
      "outputs": [
        {
          "output_type": "stream",
          "text": [
            "fatal: not a git repository (or any of the parent directories): .git\n"
          ],
          "name": "stdout"
        }
      ]
    },
    {
      "metadata": {
        "id": "3-ChiqStkpno",
        "colab_type": "text"
      },
      "cell_type": "markdown",
      "source": [
        ""
      ]
    }
  ]
}