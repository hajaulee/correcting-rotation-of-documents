{
  "nbformat": 4,
  "nbformat_minor": 0,
  "metadata": {
    "colab": {
      "name": "correcting-rotation-of-documents.ipynb",
      "version": "0.3.2",
      "provenance": [],
      "include_colab_link": true
    },
    "kernelspec": {
      "name": "python3",
      "display_name": "Python 3"
    },
    "accelerator": "GPU"
  },
  "cells": [
    {
      "cell_type": "markdown",
      "metadata": {
        "id": "view-in-github",
        "colab_type": "text"
      },
      "source": [
        "<a href=\"https://colab.research.google.com/github/hajaulee/correcting-rotation-of-documents/blob/master/correcting_rotation_of_documents.ipynb\" target=\"_parent\"><img src=\"https://colab.research.google.com/assets/colab-badge.svg\" alt=\"Open In Colab\"/></a>"
      ]
    },
    {
      "metadata": {
        "id": "DOxw45bdjP1F",
        "colab_type": "code",
        "colab": {
          "base_uri": "https://localhost:8080/",
          "height": 34
        },
        "outputId": "70bc3c76-1b1c-41f3-e29f-9f3aa6332736"
      },
      "cell_type": "code",
      "source": [
        "# Load the Drive helper and mount\n",
        "from google.colab import drive\n",
        "drive.mount('/content/drive')"
      ],
      "execution_count": 1,
      "outputs": [
        {
          "output_type": "stream",
          "text": [
            "Drive already mounted at /content/drive; to attempt to forcibly remount, call drive.mount(\"/content/drive\", force_remount=True).\n"
          ],
          "name": "stdout"
        }
      ]
    },
    {
      "metadata": {
        "id": "6rTW9cO_j4un",
        "colab_type": "code",
        "colab": {
          "base_uri": "https://localhost:8080/",
          "height": 272
        },
        "outputId": "364ac7e1-0dad-4b1d-ef67-43d047a65ee3"
      },
      "cell_type": "code",
      "source": [
        "!ls -ial '/content/drive/My Drive/correcting-rotation-of-documents/test_dataset'"
      ],
      "execution_count": 2,
      "outputs": [
        {
          "output_type": "stream",
          "text": [
            "total 1470\n",
            "53 -rw------- 1 root root 123223 Mar 17 05:01 0-pdf.jpg\n",
            "44 -rw------- 1 root root  90604 Mar 16 14:56 0-the-cu-chi.jpg\n",
            "42 -rw------- 1 root root 116900 Mar 16 14:56 0-viet-tay.jpg\n",
            "41 -rw------- 1 root root  45636 Mar 16 14:45 0-vi.jpg\n",
            "46 -rw------- 1 root root 113079 Mar 16 15:21 180-japan.jpg\n",
            "52 -rw------- 1 root root 114850 Mar 17 05:01 180-pdf.jpg\n",
            "47 -rw------- 1 root root 104953 Mar 16 15:34 180-the-cu-chi.jpg\n",
            "48 -rw------- 1 root root 114676 Mar 16 15:35 180-viet-tay.jpg\n",
            "54 -rw------- 1 root root 113704 Mar 17 05:01 270-pdf.jpg\n",
            "49 -rw------- 1 root root 105561 Mar 16 15:35 270-the-cu-chi.jpg\n",
            "50 -rw------- 1 root root 117317 Mar 16 15:35 270-viet-tay.jpg\n",
            "51 -rw------- 1 root root 118880 Mar 17 05:01 90-pdf.jpg\n",
            "43 -rw------- 1 root root 106081 Mar 16 14:56 90-the-cu-chi.jpg\n",
            "45 -rw------- 1 root root 115443 Mar 16 15:18 90-viet-tay.jpg\n"
          ],
          "name": "stdout"
        }
      ]
    },
    {
      "metadata": {
        "id": "zRgrQyy6lOHD",
        "colab_type": "code",
        "colab": {
          "base_uri": "https://localhost:8080/",
          "height": 34
        },
        "outputId": "0ab3320e-fb00-463d-a1c0-95ecb8686514"
      },
      "cell_type": "code",
      "source": [
        "import cv2 as cv\n",
        "import glob\n",
        "import os\n",
        "import time\n",
        "import numpy as np\n",
        "import matplotlib.pyplot as plt\n",
        "import tensorflow as tf\n",
        "from tensorflow.python.client import device_lib\n",
        "from keras.layers import Convolution2D, Dropout, Dense, Flatten, MaxPooling2D, Input, BatchNormalization, Add, GlobalAveragePooling2D\n",
        "from keras.models import Model\n",
        "from keras import applications\n",
        "from keras.callbacks import ModelCheckpoint, EarlyStopping, TensorBoard\n",
        "from keras import metrics, regularizers\n",
        "from sklearn.preprocessing import LabelEncoder, OneHotEncoder\n",
        "from sklearn.model_selection import train_test_split"
      ],
      "execution_count": 3,
      "outputs": [
        {
          "output_type": "stream",
          "text": [
            "Using TensorFlow backend.\n"
          ],
          "name": "stderr"
        }
      ]
    },
    {
      "metadata": {
        "id": "g75sOl4blp3E",
        "colab_type": "code",
        "colab": {}
      },
      "cell_type": "code",
      "source": [
        "working_path = '/content/drive/My Drive/correcting-rotation-of-documents'\n",
        "image_shape = (200,200,1)\n",
        "nb_classes = 4"
      ],
      "execution_count": 0,
      "outputs": []
    },
    {
      "metadata": {
        "id": "UI5Sd9aJlr8N",
        "colab_type": "code",
        "colab": {}
      },
      "cell_type": "code",
      "source": [
        "def indices_to_one_hot(data, nb_classes):\n",
        "    \"\"\"Convert an iterable of indices to one-hot encoded labels.\"\"\"\n",
        "    targets = np.array(data).reshape(-1)\n",
        "    return np.eye(nb_classes)[targets]"
      ],
      "execution_count": 0,
      "outputs": []
    },
    {
      "metadata": {
        "id": "SySBTIgzmq6-",
        "colab_type": "code",
        "colab": {}
      },
      "cell_type": "code",
      "source": [
        "def get_available_devices():\n",
        "    local_device_protos = device_lib.list_local_devices()\n",
        "    return [x.name for x in local_device_protos]"
      ],
      "execution_count": 0,
      "outputs": []
    },
    {
      "metadata": {
        "id": "dEYO1hlGmttz",
        "colab_type": "code",
        "colab": {}
      },
      "cell_type": "code",
      "source": [
        "def load_data(folder):\n",
        "    X, labels, names = [],[], []\n",
        "    list_images_file = glob.glob(os.path.join(folder, \"*.jpg\"))\n",
        "    for filename in list_images_file:\n",
        "        img = cv.imread(filename, cv.IMREAD_GRAYSCALE)\n",
        "        img = cv.resize(img, image_shape[:2])\n",
        "        img = np.asarray(img)\n",
        "        img = img.reshape(image_shape)\n",
        "        label = os.path.basename(filename)[0]\n",
        "        X.append(img)\n",
        "        labels.append(label)\n",
        "        names.append(os.path.basename(filename))\n",
        "#         print ('Loaded', filename)\n",
        "    print(\"Loaded\", len(list_images_file), 'files')\n",
        "    return np.asarray(X), np.asarray(labels), names"
      ],
      "execution_count": 0,
      "outputs": []
    },
    {
      "metadata": {
        "id": "-m3kor95mxQC",
        "colab_type": "code",
        "colab": {}
      },
      "cell_type": "code",
      "source": [
        "def get_model(nb_classes):\n",
        "    # size of pooling area for max pooling\n",
        "    pool_size = (2, 2)\n",
        "    # convolution kernel size\n",
        "    kernel_size = (3,3)\n",
        "    # convolution strides\n",
        "    strides = (1,1)\n",
        "\n",
        "    # model definition\n",
        "    input = Input(shape=image_shape)\n",
        "    \n",
        "    x = Convolution2D(96, (3,3), strides=(2,2),\n",
        "                      activation='relu')(input)\n",
        "    x = MaxPooling2D(pool_size=pool_size)(x)\n",
        "    x = BatchNormalization()(x)\n",
        "    \n",
        "    \n",
        "    x = Convolution2D(64, kernel_size, strides=strides,\n",
        "                      activation='relu')(x)\n",
        "    x = MaxPooling2D(pool_size=pool_size)(x)\n",
        "    x = BatchNormalization()(x)\n",
        "    x_cv1 = x\n",
        "    \n",
        "    x = Convolution2D(64, kernel_size, strides=strides,\n",
        "                      activation='relu', padding='same')(x)\n",
        "    x = MaxPooling2D(pool_size=pool_size)(x)\n",
        "    x = BatchNormalization()(x)\n",
        "    \n",
        "    x = Add()([x, x_cv1])\n",
        "#     x = Dropout(rate=0.40)(x)\n",
        "    x = Flatten()(x)\n",
        "    x = Dense(120, activation='relu')(x)\n",
        "#     x = Dropout(rate=0.30)(x)\n",
        "    x = Dense(80, activation='relu')(x)\n",
        "#     x = Dropout(rate=0.70)(x)\n",
        "    x = Dense(nb_classes, activation='softmax')(x)\n",
        "\n",
        "    model = Model(inputs=[input], outputs=x)\n",
        "\n",
        "    model.summary()\n",
        "    # model compilation\n",
        "    model.compile(loss='categorical_crossentropy',\n",
        "                  optimizer='sgd',\n",
        "                  metrics=['accuracy'])\n",
        "    return model"
      ],
      "execution_count": 0,
      "outputs": []
    },
    {
      "metadata": {
        "id": "t0YfZd1Lrc8m",
        "colab_type": "code",
        "colab": {}
      },
      "cell_type": "code",
      "source": [
        "def get_resNet(nb_classes):\n",
        "  base_model = applications.resnet50.ResNet50(weights= None, include_top=False, input_shape= image_shape)\n",
        "  x = base_model.output\n",
        "  x = GlobalAveragePooling2D()(x)\n",
        "  x = Dropout(0.7)(x)\n",
        "  predictions = Dense(nb_classes, activation= 'softmax')(x)\n",
        "  model = Model(inputs = base_model.input, outputs = predictions)\n",
        "  model.summary()\n",
        "  from keras.optimizers import SGD, Adam\n",
        "  # sgd = SGD(lr=lrate, momentum=0.9, decay=decay, nesterov=False)\n",
        "  adam = Adam(lr=0.0001)\n",
        "  model.compile(optimizer= adam, loss='categorical_crossentropy', metrics=['accuracy'])\n",
        "  return model"
      ],
      "execution_count": 0,
      "outputs": []
    },
    {
      "metadata": {
        "id": "aakppWJEm1kr",
        "colab_type": "code",
        "colab": {}
      },
      "cell_type": "code",
      "source": [
        "#@title Trainning function { display-mode: \"both\" }\n",
        "\n",
        "def train(model, train_, test_, nb_epoch=100, allow_early_stop=False):\n",
        "    print('Train {} epochs, Allow early stopping: {}'.format(nb_epoch, allow_early_stop) )\n",
        "    # training parameters\n",
        "    batch_size = 200\n",
        "\n",
        "    output_filename = 'model.json'\n",
        "    # callbacks\n",
        "    checkpointer = ModelCheckpoint(\n",
        "        filepath=output_filename,\n",
        "        save_best_only=True\n",
        "    )\n",
        "    early_stopping = EarlyStopping(patience=2)\n",
        "    tensorboard = TensorBoard()\n",
        "\n",
        "    callbacks = [checkpointer, tensorboard, early_stopping] if allow_early_stop else [checkpointer, tensorboard]\n",
        "    # training loop\n",
        "    with tf.device('/gpu:0'):\n",
        "        histories = model.fit(train_[0], train_[1],\n",
        "            epochs=nb_epoch,\n",
        "            batch_size=125,\n",
        "            validation_data=test_,\n",
        "            verbose=True,\n",
        "            shuffle=True,\n",
        "            callbacks=callbacks\n",
        "        )\n",
        "\n",
        "    return model, histories"
      ],
      "execution_count": 0,
      "outputs": []
    },
    {
      "metadata": {
        "id": "PLdIrCAfm5sr",
        "colab_type": "code",
        "colab": {
          "base_uri": "https://localhost:8080/",
          "height": 629
        },
        "outputId": "307340ee-f999-4bbf-ea4b-2f5d8dfafd4c"
      },
      "cell_type": "code",
      "source": [
        "start_time = time.time()\n",
        "# Build model\n",
        "model = get_model(nb_classes)\n",
        "# model = get_resNet(nb_classes)\n",
        "build_model_time = time.time() - start_time\n",
        "    "
      ],
      "execution_count": 17,
      "outputs": [
        {
          "output_type": "stream",
          "text": [
            "__________________________________________________________________________________________________\n",
            "Layer (type)                    Output Shape         Param #     Connected to                     \n",
            "==================================================================================================\n",
            "input_3 (InputLayer)            (None, 200, 200, 1)  0                                            \n",
            "__________________________________________________________________________________________________\n",
            "conv2d_5 (Conv2D)               (None, 99, 99, 96)   960         input_3[0][0]                    \n",
            "__________________________________________________________________________________________________\n",
            "conv2d_6 (Conv2D)               (None, 49, 49, 64)   55360       conv2d_5[0][0]                   \n",
            "__________________________________________________________________________________________________\n",
            "max_pooling2d_3 (MaxPooling2D)  (None, 24, 24, 64)   0           conv2d_6[0][0]                   \n",
            "__________________________________________________________________________________________________\n",
            "batch_normalization_4 (BatchNor (None, 24, 24, 64)   256         max_pooling2d_3[0][0]            \n",
            "__________________________________________________________________________________________________\n",
            "conv2d_7 (Conv2D)               (None, 22, 22, 256)  147712      batch_normalization_4[0][0]      \n",
            "__________________________________________________________________________________________________\n",
            "batch_normalization_5 (BatchNor (None, 22, 22, 256)  1024        conv2d_7[0][0]                   \n",
            "__________________________________________________________________________________________________\n",
            "conv2d_8 (Conv2D)               (None, 22, 22, 256)  590080      batch_normalization_5[0][0]      \n",
            "__________________________________________________________________________________________________\n",
            "batch_normalization_6 (BatchNor (None, 22, 22, 256)  1024        conv2d_8[0][0]                   \n",
            "__________________________________________________________________________________________________\n",
            "add_18 (Add)                    (None, 22, 22, 256)  0           batch_normalization_6[0][0]      \n",
            "                                                                 batch_normalization_5[0][0]      \n",
            "__________________________________________________________________________________________________\n",
            "flatten_2 (Flatten)             (None, 123904)       0           add_18[0][0]                     \n",
            "__________________________________________________________________________________________________\n",
            "dense_5 (Dense)                 (None, 120)          14868600    flatten_2[0][0]                  \n",
            "__________________________________________________________________________________________________\n",
            "dense_6 (Dense)                 (None, 80)           9680        dense_5[0][0]                    \n",
            "__________________________________________________________________________________________________\n",
            "dense_7 (Dense)                 (None, 4)            324         dense_6[0][0]                    \n",
            "==================================================================================================\n",
            "Total params: 15,675,020\n",
            "Trainable params: 15,673,868\n",
            "Non-trainable params: 1,152\n",
            "__________________________________________________________________________________________________\n"
          ],
          "name": "stdout"
        }
      ]
    },
    {
      "metadata": {
        "id": "s1JpAyUPnwRD",
        "colab_type": "code",
        "colab": {
          "base_uri": "https://localhost:8080/",
          "height": 68
        },
        "outputId": "74b4ce16-b21b-49a3-d886-1c87d6bd0bf3"
      },
      "cell_type": "code",
      "source": [
        "start_time = time.time()\n",
        "images_path = os.path.join(working_path,'train_dataset')\n",
        "print('Load images from', images_path)\n",
        "X_data, Y_data, N_data = load_data(images_path)\n",
        "X_train, X_test, Y_train, Y_test = train_test_split(X_data, Y_data, test_size=.2, random_state=42)\n",
        "\n",
        "load_data_time = time.time() - start_time\n",
        "print('Training with', len(X_train), 'images and validate with', len(X_test), 'images') "
      ],
      "execution_count": 12,
      "outputs": [
        {
          "output_type": "stream",
          "text": [
            "Load images from /content/drive/My Drive/correcting-rotation-of-documents/train_dataset\n",
            "Loaded 2156 files\n",
            "Training with 1724 images and validate with 432 images\n"
          ],
          "name": "stdout"
        }
      ]
    },
    {
      "metadata": {
        "id": "_oPdyJXexKCT",
        "colab_type": "code",
        "colab": {}
      },
      "cell_type": "code",
      "source": [
        "labelencoder_X = LabelEncoder()\n",
        "Y_train = labelencoder_X.fit_transform(Y_train)\n",
        "Y_test = labelencoder_X.transform(Y_test)\n",
        "\n",
        "Y_train = indices_to_one_hot(Y_train, nb_classes)\n",
        "Y_test = indices_to_one_hot(Y_test, nb_classes)"
      ],
      "execution_count": 0,
      "outputs": []
    },
    {
      "metadata": {
        "id": "jBiQ7TIWxPnr",
        "colab_type": "code",
        "colab": {
          "base_uri": "https://localhost:8080/",
          "height": 1768
        },
        "outputId": "691e8e44-7f6c-4f94-9432-143227222be6"
      },
      "cell_type": "code",
      "source": [
        "start_time = time.time()\n",
        "model, history = train(model, train_=(X_train, Y_train), test_=(X_test, Y_test), nb_epoch=50)\n",
        "train_model_time = time.time() - start_time\n",
        "print(\"Training complete\")"
      ],
      "execution_count": 22,
      "outputs": [
        {
          "output_type": "stream",
          "text": [
            "Train 50 epochs, Allow early stopping: False\n",
            "Train on 1724 samples, validate on 432 samples\n",
            "Epoch 1/50\n",
            "1724/1724 [==============================] - 5s 3ms/step - loss: 4.7568e-04 - acc: 1.0000 - val_loss: 0.2812 - val_acc: 0.9375\n",
            "Epoch 2/50\n",
            "1724/1724 [==============================] - 5s 3ms/step - loss: 4.6937e-04 - acc: 1.0000 - val_loss: 0.2812 - val_acc: 0.9375\n",
            "Epoch 3/50\n",
            "1724/1724 [==============================] - 5s 3ms/step - loss: 4.5866e-04 - acc: 1.0000 - val_loss: 0.2812 - val_acc: 0.9375\n",
            "Epoch 4/50\n",
            "1724/1724 [==============================] - 5s 3ms/step - loss: 4.4326e-04 - acc: 1.0000 - val_loss: 0.2808 - val_acc: 0.9398\n",
            "Epoch 5/50\n",
            "1724/1724 [==============================] - 5s 3ms/step - loss: 4.5253e-04 - acc: 1.0000 - val_loss: 0.2806 - val_acc: 0.9375\n",
            "Epoch 6/50\n",
            "1724/1724 [==============================] - 5s 3ms/step - loss: 4.2605e-04 - acc: 1.0000 - val_loss: 0.2817 - val_acc: 0.9375\n",
            "Epoch 7/50\n",
            "1724/1724 [==============================] - 5s 3ms/step - loss: 4.1966e-04 - acc: 1.0000 - val_loss: 0.2819 - val_acc: 0.9375\n",
            "Epoch 8/50\n",
            "1724/1724 [==============================] - 5s 3ms/step - loss: 4.0417e-04 - acc: 1.0000 - val_loss: 0.2822 - val_acc: 0.9375\n",
            "Epoch 9/50\n",
            "1724/1724 [==============================] - 5s 3ms/step - loss: 4.1263e-04 - acc: 1.0000 - val_loss: 0.2811 - val_acc: 0.9375\n",
            "Epoch 10/50\n",
            "1724/1724 [==============================] - 5s 3ms/step - loss: 3.9383e-04 - acc: 1.0000 - val_loss: 0.2817 - val_acc: 0.9375\n",
            "Epoch 11/50\n",
            "1724/1724 [==============================] - 5s 3ms/step - loss: 4.0577e-04 - acc: 1.0000 - val_loss: 0.2816 - val_acc: 0.9375\n",
            "Epoch 12/50\n",
            "1724/1724 [==============================] - 5s 3ms/step - loss: 3.7283e-04 - acc: 1.0000 - val_loss: 0.2831 - val_acc: 0.9398\n",
            "Epoch 13/50\n",
            "1724/1724 [==============================] - 5s 3ms/step - loss: 3.7891e-04 - acc: 1.0000 - val_loss: 0.2855 - val_acc: 0.9398\n",
            "Epoch 14/50\n",
            "1724/1724 [==============================] - 5s 3ms/step - loss: 3.8089e-04 - acc: 1.0000 - val_loss: 0.2842 - val_acc: 0.9398\n",
            "Epoch 15/50\n",
            "1724/1724 [==============================] - 5s 3ms/step - loss: 3.5732e-04 - acc: 1.0000 - val_loss: 0.2838 - val_acc: 0.9375\n",
            "Epoch 16/50\n",
            "1724/1724 [==============================] - 5s 3ms/step - loss: 3.6722e-04 - acc: 1.0000 - val_loss: 0.2851 - val_acc: 0.9375\n",
            "Epoch 17/50\n",
            "1724/1724 [==============================] - 5s 3ms/step - loss: 3.5359e-04 - acc: 1.0000 - val_loss: 0.2851 - val_acc: 0.9398\n",
            "Epoch 18/50\n",
            "1724/1724 [==============================] - 5s 3ms/step - loss: 3.7173e-04 - acc: 1.0000 - val_loss: 0.2845 - val_acc: 0.9398\n",
            "Epoch 19/50\n",
            "1724/1724 [==============================] - 5s 3ms/step - loss: 3.3964e-04 - acc: 1.0000 - val_loss: 0.2863 - val_acc: 0.9398\n",
            "Epoch 20/50\n",
            "1724/1724 [==============================] - 5s 3ms/step - loss: 3.4643e-04 - acc: 1.0000 - val_loss: 0.2859 - val_acc: 0.9375\n",
            "Epoch 21/50\n",
            "1724/1724 [==============================] - 5s 3ms/step - loss: 3.3635e-04 - acc: 1.0000 - val_loss: 0.2855 - val_acc: 0.9398\n",
            "Epoch 22/50\n",
            "1724/1724 [==============================] - 5s 3ms/step - loss: 3.2271e-04 - acc: 1.0000 - val_loss: 0.2868 - val_acc: 0.9398\n",
            "Epoch 23/50\n",
            "1724/1724 [==============================] - 5s 3ms/step - loss: 3.1833e-04 - acc: 1.0000 - val_loss: 0.2846 - val_acc: 0.9398\n",
            "Epoch 24/50\n",
            "1724/1724 [==============================] - 5s 3ms/step - loss: 3.2538e-04 - acc: 1.0000 - val_loss: 0.2859 - val_acc: 0.9398\n",
            "Epoch 25/50\n",
            "1724/1724 [==============================] - 5s 3ms/step - loss: 3.1304e-04 - acc: 1.0000 - val_loss: 0.2849 - val_acc: 0.9398\n",
            "Epoch 26/50\n",
            "1724/1724 [==============================] - 5s 3ms/step - loss: 3.0791e-04 - acc: 1.0000 - val_loss: 0.2844 - val_acc: 0.9398\n",
            "Epoch 27/50\n",
            "1724/1724 [==============================] - 5s 3ms/step - loss: 3.0305e-04 - acc: 1.0000 - val_loss: 0.2840 - val_acc: 0.9398\n",
            "Epoch 28/50\n",
            "1724/1724 [==============================] - 5s 3ms/step - loss: 2.9876e-04 - acc: 1.0000 - val_loss: 0.2833 - val_acc: 0.9398\n",
            "Epoch 29/50\n",
            "1724/1724 [==============================] - 5s 3ms/step - loss: 3.0121e-04 - acc: 1.0000 - val_loss: 0.2864 - val_acc: 0.9398\n",
            "Epoch 30/50\n",
            "1724/1724 [==============================] - 5s 3ms/step - loss: 2.9588e-04 - acc: 1.0000 - val_loss: 0.2860 - val_acc: 0.9398\n",
            "Epoch 31/50\n",
            "1724/1724 [==============================] - 5s 3ms/step - loss: 2.9173e-04 - acc: 1.0000 - val_loss: 0.2850 - val_acc: 0.9398\n",
            "Epoch 32/50\n",
            "1724/1724 [==============================] - 5s 3ms/step - loss: 2.8737e-04 - acc: 1.0000 - val_loss: 0.2837 - val_acc: 0.9398\n",
            "Epoch 33/50\n",
            "1724/1724 [==============================] - 5s 3ms/step - loss: 2.8199e-04 - acc: 1.0000 - val_loss: 0.2847 - val_acc: 0.9375\n",
            "Epoch 34/50\n",
            "1724/1724 [==============================] - 5s 3ms/step - loss: 2.7268e-04 - acc: 1.0000 - val_loss: 0.2846 - val_acc: 0.9398\n",
            "Epoch 35/50\n",
            "1724/1724 [==============================] - 5s 3ms/step - loss: 2.8671e-04 - acc: 1.0000 - val_loss: 0.2854 - val_acc: 0.9398\n",
            "Epoch 36/50\n",
            "1724/1724 [==============================] - 5s 3ms/step - loss: 2.8618e-04 - acc: 1.0000 - val_loss: 0.2875 - val_acc: 0.9375\n",
            "Epoch 37/50\n",
            "1724/1724 [==============================] - 5s 3ms/step - loss: 2.6541e-04 - acc: 1.0000 - val_loss: 0.2858 - val_acc: 0.9398\n",
            "Epoch 38/50\n",
            "1724/1724 [==============================] - 5s 3ms/step - loss: 2.5193e-04 - acc: 1.0000 - val_loss: 0.2846 - val_acc: 0.9398\n",
            "Epoch 39/50\n",
            "1724/1724 [==============================] - 5s 3ms/step - loss: 2.5552e-04 - acc: 1.0000 - val_loss: 0.2853 - val_acc: 0.9421\n",
            "Epoch 40/50\n",
            "1724/1724 [==============================] - 5s 3ms/step - loss: 2.5264e-04 - acc: 1.0000 - val_loss: 0.2856 - val_acc: 0.9398\n",
            "Epoch 41/50\n",
            "1724/1724 [==============================] - 5s 3ms/step - loss: 2.7215e-04 - acc: 1.0000 - val_loss: 0.2850 - val_acc: 0.9421\n",
            "Epoch 42/50\n",
            "1724/1724 [==============================] - 5s 3ms/step - loss: 2.5803e-04 - acc: 1.0000 - val_loss: 0.2862 - val_acc: 0.9398\n",
            "Epoch 43/50\n",
            "1724/1724 [==============================] - 5s 3ms/step - loss: 2.4087e-04 - acc: 1.0000 - val_loss: 0.2861 - val_acc: 0.9398\n",
            "Epoch 44/50\n",
            "1724/1724 [==============================] - 5s 3ms/step - loss: 2.5005e-04 - acc: 1.0000 - val_loss: 0.2867 - val_acc: 0.9398\n",
            "Epoch 45/50\n",
            "1724/1724 [==============================] - 5s 3ms/step - loss: 2.4848e-04 - acc: 1.0000 - val_loss: 0.2860 - val_acc: 0.9398\n",
            "Epoch 46/50\n",
            "1724/1724 [==============================] - 5s 3ms/step - loss: 2.3732e-04 - acc: 1.0000 - val_loss: 0.2866 - val_acc: 0.9398\n",
            "Epoch 47/50\n",
            "1724/1724 [==============================] - 5s 3ms/step - loss: 2.3316e-04 - acc: 1.0000 - val_loss: 0.2866 - val_acc: 0.9398\n",
            "Epoch 48/50\n",
            "1724/1724 [==============================] - 5s 3ms/step - loss: 2.3887e-04 - acc: 1.0000 - val_loss: 0.2876 - val_acc: 0.9398\n",
            "Epoch 49/50\n",
            "1724/1724 [==============================] - 5s 3ms/step - loss: 2.3203e-04 - acc: 1.0000 - val_loss: 0.2883 - val_acc: 0.9398\n",
            "Epoch 50/50\n",
            "1724/1724 [==============================] - 5s 3ms/step - loss: 2.2572e-04 - acc: 1.0000 - val_loss: 0.2869 - val_acc: 0.9398\n",
            "Training complete\n"
          ],
          "name": "stdout"
        }
      ]
    },
    {
      "metadata": {
        "id": "LqRC9ea1xxrc",
        "colab_type": "code",
        "colab": {
          "base_uri": "https://localhost:8080/",
          "height": 837
        },
        "outputId": "8b94bdd4-5b4c-48e9-a1a9-9da03dde437e"
      },
      "cell_type": "code",
      "source": [
        "# summarize history for accuracy\n",
        "plt.figure()\n",
        "plt.plot(history.history['acc'])\n",
        "plt.plot(history.history['val_acc'])\n",
        "plt.title('model accuracy')\n",
        "plt.ylabel('accuracy')\n",
        "plt.xlabel('epoch')\n",
        "plt.legend(['train', 'test'], loc='upper left')\n",
        "plt.show()\n",
        "\n",
        "plt.plot(history.history['loss'])\n",
        "plt.plot(history.history['val_loss'])\n",
        "plt.title('model accuracy')\n",
        "plt.ylabel('losses')\n",
        "plt.xlabel('epoch')\n",
        "plt.legend(['train', 'test'], loc='upper left')\n",
        "plt.show()\n",
        "test_loss, test_acc = model.evaluate(X_test, Y_test)\n",
        "print(\"Evaluate model: loss:{}, acc:{}\".format(test_loss, test_acc))\n",
        "print(\"Build model in {} seconds.\".format(build_model_time))\n",
        "print(\"Load data in {} seconds.\".format(load_data_time))\n",
        "print(\"Train model in {} second.\".format(train_model_time))\n",
        "print(\"Max val_acc is {} at epoch {}\".format(max(history.history['val_acc']), \n",
        "      1 + np.where(history.history['val_acc'] ==max(history.history['val_acc']))[0][0]))"
      ],
      "execution_count": 23,
      "outputs": [
        {
          "output_type": "display_data",
          "data": {
            "image/png": "[encoded data removed]",
            "text/plain": [
              "<Figure size 576x396 with 1 Axes>"
            ]
          },
          "metadata": {
            "tags": []
          }
        },
        {
          "output_type": "display_data",
          "data": {
            "image/png": "[encoded data removed]",
            "text/plain": [
              "<Figure size 576x396 with 1 Axes>"
            ]
          },
          "metadata": {
            "tags": []
          }
        },
        {
          "output_type": "stream",
          "text": [
            "432/432 [==============================] - 0s 1ms/step\n",
            "Evaluate model: loss:0.2869387187615589, acc:0.9398148148148148\n",
            "Build model in 0.5186648368835449 seconds.\n",
            "Load data in 54.04591727256775 seconds.\n",
            "Train model in 238.59462451934814 second.\n",
            "Max val_acc is 0.9421296328030251 at epoch 39\n"
          ],
          "name": "stdout"
        }
      ]
    },
    {
      "metadata": {
        "id": "X9RfiPAL6lZw",
        "colab_type": "code",
        "colab": {
          "base_uri": "https://localhost:8080/",
          "height": 850
        },
        "outputId": "163cc8de-7a4f-411c-a197-8a2b7a96aa88"
      },
      "cell_type": "code",
      "source": [
        "print(\"Label:\",Y_test[1])\n",
        "tmp_test = np.expand_dims(X_test[1], axis=0)\n",
        "print(\"Predict:\",model.predict(tmp_test))\n",
        "\n",
        "real_data = load_data(os.path.join(working_path,'test_dataset'))\n",
        "\n",
        "real_labels = indices_to_one_hot(labelencoder_X.transform(real_data[1]), nb_classes)\n",
        "\n",
        "print(np.expand_dims(np.asarray(real_data[2]), axis=1))\n",
        "print(\"Real data label:\\n\", real_labels)\n",
        "predicted_result = model.predict(real_data[0])\n",
        "hot_results = []\n",
        "\n",
        "for row in predicted_result:\n",
        "    hot_index = np.where(row == max(row))[0][0]\n",
        "    hot_result = [0] * len(row)\n",
        "    hot_result[hot_index] = 1\n",
        "    hot_results.append(hot_result)\n",
        "hot_results = np.asarray(hot_results)\n",
        "print(\"Real data Predict:\\n\", hot_results)\n",
        "\n",
        "real_test_loss, real_test_acc = model.evaluate(real_data[0], real_labels)\n",
        "print(\"Evaluate model: loss:{}, acc:{}\".format(real_test_loss, real_test_acc))"
      ],
      "execution_count": 24,
      "outputs": [
        {
          "output_type": "stream",
          "text": [
            "Label: [1. 0. 0. 0.]\n",
            "Predict: [[9.9999762e-01 1.5628477e-06 7.4649046e-07 3.9153310e-08]]\n",
            "Loaded 14 files\n",
            "[['0-vi.jpg']\n",
            " ['0-viet-tay.jpg']\n",
            " ['90-the-cu-chi.jpg']\n",
            " ['0-the-cu-chi.jpg']\n",
            " ['90-viet-tay.jpg']\n",
            " ['180-japan.jpg']\n",
            " ['180-the-cu-chi.jpg']\n",
            " ['180-viet-tay.jpg']\n",
            " ['270-the-cu-chi.jpg']\n",
            " ['270-viet-tay.jpg']\n",
            " ['90-pdf.jpg']\n",
            " ['180-pdf.jpg']\n",
            " ['0-pdf.jpg']\n",
            " ['270-pdf.jpg']]\n",
            "Real data label:\n",
            " [[1. 0. 0. 0.]\n",
            " [1. 0. 0. 0.]\n",
            " [0. 0. 0. 1.]\n",
            " [1. 0. 0. 0.]\n",
            " [0. 0. 0. 1.]\n",
            " [0. 1. 0. 0.]\n",
            " [0. 1. 0. 0.]\n",
            " [0. 1. 0. 0.]\n",
            " [0. 0. 1. 0.]\n",
            " [0. 0. 1. 0.]\n",
            " [0. 0. 0. 1.]\n",
            " [0. 1. 0. 0.]\n",
            " [1. 0. 0. 0.]\n",
            " [0. 0. 1. 0.]]\n",
            "Real data Predict:\n",
            " [[1 0 0 0]\n",
            " [1 0 0 0]\n",
            " [0 0 1 0]\n",
            " [0 0 1 0]\n",
            " [0 1 0 0]\n",
            " [0 1 0 0]\n",
            " [0 0 1 0]\n",
            " [0 1 0 0]\n",
            " [0 0 1 0]\n",
            " [0 0 1 0]\n",
            " [0 0 0 1]\n",
            " [0 1 0 0]\n",
            " [1 0 0 0]\n",
            " [0 0 1 0]]\n",
            "\r14/14 [==============================] - 0s 2ms/step\n",
            "Evaluate model: loss:0.9190641045570374, acc:0.7142857313156128\n"
          ],
          "name": "stdout"
        }
      ]
    },
    {
      "metadata": {
        "id": "KhoYsAuia_Ur",
        "colab_type": "code",
        "colab": {}
      },
      "cell_type": "code",
      "source": [
        "!git remote"
      ],
      "execution_count": 0,
      "outputs": []
    },
    {
      "metadata": {
        "id": "3-ChiqStkpno",
        "colab_type": "text"
      },
      "cell_type": "markdown",
      "source": [
        ""
      ]
    }
  ]
}